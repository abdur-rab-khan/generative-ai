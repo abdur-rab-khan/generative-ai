{
 "cells": [
  {
   "cell_type": "markdown",
   "id": "133ba5ec",
   "metadata": {},
   "source": [
    "# How to create and query vector stores\n"
   ]
  }
 ],
 "metadata": {
  "language_info": {
   "name": "python"
  }
 },
 "nbformat": 4,
 "nbformat_minor": 5
}
