{
 "cells": [
  {
   "cell_type": "markdown",
   "id": "51103f62",
   "metadata": {},
   "source": [
    "- [Vector Store](#vector-store)\n",
    "  - [Basic Implementation via `InMemoryVectorStore`](#basic-implementation-via-inmemoryvectorstore)\n",
    "    - [Add Documents](#add-documents)\n",
    "    - [Delete Documents](#delete)\n",
    "    - [Search Over Documents](#search)\n",
    "      - [Similarity Metrics](#similarity-metrics)\n",
    "      - [Similarity Search](#similarity-search)\n",
    "    - [Metadata filtering](#metadata-filtering)\n",
    "  - [Advanced Search and Retrieval Techniques](#advanced-search-and-retrieval-techniques)\n",
    "  - [PineCone](#pinecone)"
   ]
  },
  {
   "cell_type": "markdown",
   "id": "74969b72",
   "metadata": {},
   "source": [
    "# Vector Store"
   ]
  },
  {
   "cell_type": "code",
   "execution_count": 2,
   "id": "2b9b44a6",
   "metadata": {},
   "outputs": [],
   "source": [
    "from os import path\n",
    "from langchain_openai import OpenAIEmbeddings\n",
    "\n",
    "pdf_path = \"../sample_files/progit.pdf\"\n",
    "\n",
    "if not path.exists(pdf_path):\n",
    "    raise Exception(\"Invalid path, File does not exits\")\n",
    "\n",
    "embedding_model = OpenAIEmbeddings(model=\"text-embedding-3-small\")"
   ]
  },
  {
   "cell_type": "markdown",
   "id": "b90ade83",
   "metadata": {},
   "source": [
    "## Basic Implementation via `InMemoryVectorStore`"
   ]
  },
  {
   "cell_type": "code",
   "execution_count": 3,
   "id": "b701f065",
   "metadata": {},
   "outputs": [],
   "source": [
    "from langchain_openai import OpenAIEmbeddings\n",
    "from langchain_core.vectorstores import InMemoryVectorStore\n",
    "\n",
    "# Initializing with an embedded model\n",
    "vector_store = InMemoryVectorStore(embedding=embedding_model)"
   ]
  },
  {
   "cell_type": "markdown",
   "id": "2560c433",
   "metadata": {},
   "source": [
    "- Extracting Documents from pdf"
   ]
  },
  {
   "cell_type": "code",
   "execution_count": 4,
   "id": "cb5bc286",
   "metadata": {},
   "outputs": [],
   "source": [
    "from langchain_community.document_loaders import PyPDFLoader\n",
    "from langchain_text_splitters import CharacterTextSplitter\n",
    "\n",
    "raw_docs = []\n",
    "\n",
    "# Initializing PDF loader\n",
    "pdf_loader = PyPDFLoader(pdf_path)\n",
    "async for doc in pdf_loader.alazy_load():\n",
    "    current_page = doc.metadata[\"page_label\"]\n",
    "\n",
    "    if not current_page.isdigit():\n",
    "        continue\n",
    "\n",
    "    current_page_num = int(current_page)\n",
    "    if current_page_num > 8:\n",
    "        if current_page_num >= 492:\n",
    "            break\n",
    "\n",
    "        raw_docs.append(doc)\n",
    "    else:\n",
    "        continue\n",
    "\n",
    "text_splitter = CharacterTextSplitter(\n",
    "    chunk_size=1000,\n",
    "    chunk_overlap=200\n",
    ")\n",
    "documents = text_splitter.split_documents(raw_docs)"
   ]
  },
  {
   "cell_type": "markdown",
   "id": "10a930a0",
   "metadata": {},
   "source": [
    "### Add Documents\n",
    "\n",
    "- The **`add_documents`** method works with list of **`Document`** objects all have `page_content` and `meta_data` attribute. making them universal way to store unstructured text and associated metadata."
   ]
  },
  {
   "cell_type": "code",
   "execution_count": null,
   "id": "cb0eefce",
   "metadata": {},
   "outputs": [],
   "source": [
    "vector_store.add_documents(documents=documents)"
   ]
  },
  {
   "cell_type": "markdown",
   "id": "ed940928",
   "metadata": {},
   "source": [
    "- We have to provide **`ID's`** for the documents, so that instead of adding the same document multiple times, we can update the existing document."
   ]
  },
  {
   "cell_type": "code",
   "execution_count": null,
   "id": "b7d45147",
   "metadata": {},
   "outputs": [],
   "source": [
    "vector_store.add_documents(documents=documents, ids=[\"doc1\", \"doc2\"])"
   ]
  },
  {
   "cell_type": "markdown",
   "id": "a46381f6",
   "metadata": {},
   "source": [
    "### Delete "
   ]
  },
  {
   "cell_type": "markdown",
   "id": "d72e99cd",
   "metadata": {},
   "source": [
    "- To delete documents, use the delete method which takes a list of document IDs to delete."
   ]
  },
  {
   "cell_type": "code",
   "execution_count": 15,
   "id": "1062ba73",
   "metadata": {},
   "outputs": [],
   "source": [
    "vector_store.delete(ids=[\"doc1\"])"
   ]
  },
  {
   "cell_type": "markdown",
   "id": "9a91f79d",
   "metadata": {},
   "source": [
    "### Search"
   ]
  },
  {
   "cell_type": "markdown",
   "id": "99e80766",
   "metadata": {},
   "source": [
    "- Vector store embed and store the documents that added. If we pass query it convert into vector and perform a similarity search over the embedded documents.\n",
    "- There are two important concept for searching\n",
    "  1. Needs a way to measure that similarity between query and any embedded documents. \n",
    "  2. Needs are algorithm to efficiently perform the similarity search across all embedded documents."
   ]
  },
  {
   "cell_type": "markdown",
   "id": "4b05a146",
   "metadata": {},
   "source": [
    "#### Similarity metrics\n",
    "\n",
    "- The important thing about embeddings are they can be comparable using simple **Mathematical operations:**\n",
    "  1. **Cosine Similarity:**  A metric used to measure how similar two vectors are, based on the angle between them, regardless of their magnitude.\n",
    "  2. **Euclidean Distance:** Euclidean distance is a measure of the **straight-line** distance between two points in a **multi-dimensional space**\n",
    "  3. **Dot Product:** An operation in linear algebra that takes two vectors and returns a single scalar value. It reflects how much two vectors point in the same direction.\n",
    "\n",
    "- The choice of similarity metrics can something selected during initialization of vector store."
   ]
  },
  {
   "cell_type": "markdown",
   "id": "56e3d199",
   "metadata": {},
   "source": [
    "#### Similarity Search\n",
    "\n",
    "- Given similarity metrics measure the distance between the embedded query and any embedded documents.\n",
    "- There are various algorithms for efficiently search over all embedded documents, Many vector stores implement **`HNSW (Hierarchical Navigable Small World)`**, a graph based index structure that allows for similarity search. \n",
    "- In LangChain, under the hood use this algorithm."
   ]
  },
  {
   "cell_type": "code",
   "execution_count": null,
   "id": "ad07b99d",
   "metadata": {},
   "outputs": [],
   "source": [
    "query = \"my query\"\n",
    "docs = vectorstore.similarity_search(query)"
   ]
  },
  {
   "cell_type": "markdown",
   "id": "4154c5f2",
   "metadata": {},
   "source": [
    "- Many vectorstores support search parameters to be passed with **`similarity_search`** method.\n",
    "- [**PineCone**](#pinecone) supports several parameters. Many vectorstores support the k, which controls the number of Documents to return, and filter, which allows for filtering documents by metadata.\n",
    "\n",
    "- query (str) – Text to look up documents similar to.\n",
    "- k (int) – Number of Documents to return. Defaults to 4.\n",
    "- filter (dict | None) – Dictionary of argument(s) to filter on metadata"
   ]
  },
  {
   "cell_type": "markdown",
   "id": "c196395f",
   "metadata": {},
   "source": [
    "### Metadata filtering\n",
    "\n",
    "- **Vector Stores** implement a search algorithm to efficiently search over all embedded documents to find most relevant one. many vector stores also supports **Metadata filtering**.\n",
    "- These two concepts work well together\n",
    "    1. **Semantic Search:**  Query the unstructured data directly, often via embedding or keyword similarity.\n",
    "    2. **Metadata Search:** Apply structured query to the metadata, filtering specific documents.\n",
    "\n",
    "    ```py\n",
    "    # Example of PineCone\n",
    "    \n",
    "    vector_store.similarity_search(\n",
    "        \"LangChain provides abstractions to make working with LLMs easy\",\n",
    "        k=2, # Number of documents return\n",
    "        filter={\"source\": \"tweet\"},\n",
    "    )\n",
    "    ```"
   ]
  },
  {
   "cell_type": "markdown",
   "id": "3d22761d",
   "metadata": {},
   "source": [
    "### [Advanced search and retrieval techniques](https://python.langchain.com/docs/concepts/vectorstores/#advanced-search-and-retrieval-techniques)"
   ]
  },
  {
   "cell_type": "markdown",
   "id": "0a6a1fa4",
   "metadata": {
    "vscode": {
     "languageId": "plaintext"
    }
   },
   "source": [
    "## PineCone"
   ]
  }
 ],
 "metadata": {
  "kernelspec": {
   "display_name": "myenv",
   "language": "python",
   "name": "python3"
  },
  "language_info": {
   "codemirror_mode": {
    "name": "ipython",
    "version": 3
   },
   "file_extension": ".py",
   "mimetype": "text/x-python",
   "name": "python",
   "nbconvert_exporter": "python",
   "pygments_lexer": "ipython3",
   "version": "3.13.0"
  }
 },
 "nbformat": 4,
 "nbformat_minor": 5
}
