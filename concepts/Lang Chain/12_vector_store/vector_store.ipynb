{
 "cells": [
  {
   "cell_type": "markdown",
   "id": "74969b72",
   "metadata": {},
   "source": [
    "# Vector Store"
   ]
  },
  {
   "cell_type": "code",
   "execution_count": 2,
   "id": "2b9b44a6",
   "metadata": {},
   "outputs": [],
   "source": [
    "from os import path\n",
    "from langchain_openai import OpenAIEmbeddings\n",
    "\n",
    "pdf_path = \"../sample_files/progit.pdf\"\n",
    "\n",
    "if not path.exists(pdf_path):\n",
    "    raise Exception(\"Invalid path, File does not exits\")\n",
    "\n",
    "embeddings = OpenAIEmbeddings(model=\"text-embedding-3-small\")"
   ]
  },
  {
   "cell_type": "markdown",
   "id": "0a6a1fa4",
   "metadata": {
    "vscode": {
     "languageId": "plaintext"
    }
   },
   "source": [
    "## PineCone"
   ]
  },
  {
   "cell_type": "code",
   "execution_count": 7,
   "id": "283a04de",
   "metadata": {},
   "outputs": [
    {
     "ename": "NameError",
     "evalue": "name 'index_name' is not defined",
     "output_type": "error",
     "traceback": [
      "\u001b[31m---------------------------------------------------------------------------\u001b[39m",
      "\u001b[31mNameError\u001b[39m                                 Traceback (most recent call last)",
      "\u001b[36mCell\u001b[39m\u001b[36m \u001b[39m\u001b[32mIn[7]\u001b[39m\u001b[32m, line 5\u001b[39m\n\u001b[32m      2\u001b[39m \u001b[38;5;28;01mfrom\u001b[39;00m\u001b[38;5;250m \u001b[39m\u001b[34;01mpinecone\u001b[39;00m\u001b[38;5;250m \u001b[39m\u001b[38;5;28;01mimport\u001b[39;00m Pinecone\n\u001b[32m      4\u001b[39m pc = Pinecone(api_key=\u001b[33m\"\u001b[39m\u001b[33mPINECONE_API_KEY \u001b[39m\u001b[33m\"\u001b[39m)\n\u001b[32m----> \u001b[39m\u001b[32m5\u001b[39m index = pc.Index(\u001b[43mindex_name\u001b[49m)\n\u001b[32m      8\u001b[39m vector_store = PineconeVectorStore(embedding=embeddings, index=index)\n",
      "\u001b[31mNameError\u001b[39m: name 'index_name' is not defined"
     ]
    }
   ],
   "source": [
    "from langchain_pinecone import PineconeVectorStore\n",
    "from pinecone import Pinecone\n",
    "\n",
    "pc = Pinecone(api_key=\"PINECONE_API_KEY \")\n",
    "index = pc.Index(index_name)\n",
    "\n",
    "\n",
    "vector_store = PineconeVectorStore(embedding=embeddings, index=index)"
   ]
  }
 ],
 "metadata": {
  "kernelspec": {
   "display_name": "myenv",
   "language": "python",
   "name": "python3"
  },
  "language_info": {
   "codemirror_mode": {
    "name": "ipython",
    "version": 3
   },
   "file_extension": ".py",
   "mimetype": "text/x-python",
   "name": "python",
   "nbconvert_exporter": "python",
   "pygments_lexer": "ipython3",
   "version": "3.13.0"
  }
 },
 "nbformat": 4,
 "nbformat_minor": 5
}
