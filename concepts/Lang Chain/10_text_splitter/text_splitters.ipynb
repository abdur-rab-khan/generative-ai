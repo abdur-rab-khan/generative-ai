{
 "cells": [
  {
   "cell_type": "markdown",
   "id": "d7962ce3",
   "metadata": {},
   "source": [
    "# Approaches to Split Documents\n",
    "\n",
    "1. [Length Based](#length-base)\n",
    "2. [Text-structure Based](#text-structure-based)\n",
    "3. [Document-structure Based](#document-structure-based)\n",
    "4. [Semantic meaning](#semantic-meaning-based)"
   ]
  },
  {
   "cell_type": "markdown",
   "id": "d8444e56",
   "metadata": {
    "vscode": {
     "languageId": "plaintext"
    }
   },
   "source": [
    "## Length Based"
   ]
  },
  {
   "cell_type": "code",
   "execution_count": 2,
   "id": "9ecc6b9a",
   "metadata": {},
   "outputs": [],
   "source": [
    "# Let's load the document from pdf\n",
    "from os import path\n",
    "\n",
    "pdf_path = \"../sample_files/progit.pdf\"\n",
    "\n",
    "if not path.exists(pdf_path):\n",
    "    raise Exception(\"Invalid file, File does not exits\")"
   ]
  },
  {
   "cell_type": "markdown",
   "id": "b9b15200",
   "metadata": {},
   "source": [
    "### Load the document from `PDF`"
   ]
  },
  {
   "cell_type": "code",
   "execution_count": 80,
   "id": "db5f29df",
   "metadata": {},
   "outputs": [],
   "source": [
    "from langchain_community.document_loaders import PyPDFLoader\n",
    "\n",
    "loader = PyPDFLoader(pdf_path)\n",
    "\n",
    "docs = \"\"\n",
    "metadatas = []\n",
    "for doc in loader.load():\n",
    "    if doc.metadata[\"page\"] < 8:\n",
    "        continue\n",
    "\n",
    "    if doc.metadata[\"page\"] >= 492:\n",
    "        break\n",
    "\n",
    "    docs += doc.page_content\n",
    "    metadatas.append(doc.metadata)"
   ]
  },
  {
   "cell_type": "markdown",
   "id": "04ffb67b",
   "metadata": {},
   "source": [
    "### 1. Split text by token"
   ]
  },
  {
   "cell_type": "code",
   "execution_count": null,
   "id": "c6abe0d3",
   "metadata": {},
   "outputs": [
    {
     "name": "stdout",
     "output_type": "stream",
     "text": [
      "Token-based: 349 chunks\n",
      " been staged, it is modified. In Git Basics, you’ll learn more about these states and\n",
      "how you can either take advantage of them or skip the staged part entirely.\n",
      "The Command Line\n",
      "There are a lot of different ways to use Git. There are the original command-line tools, and there\n",
      "are many graphical user interfaces of varying capabilities. For this book, we will be using Git on the\n",
      "command line. For one, the command line is the only place you can run all Git commands — most\n",
      "of the GUIs implement only a partial subset of Git functionality for simplicity. If you know how to\n",
      "run the command-line version, you can probably also figure out how to run the GUI version, while\n",
      "the opposite is not necessarily true. Also, while your choice of graphical client is a matter of\n",
      "personal taste, all users will have the command-line tools installed and available.\n",
      "So we will expect you to know how to open Terminal in macOS or Command Prompt or PowerShell\n",
      "in Windows. If you don’t know what we’re talking about here, you may need to stop and research\n",
      "that quickly so that you can follow the rest of the examples and descriptions in this book.\n",
      "Installing Git\n",
      "Before you start using Git, you have to make it available on your computer. Even if it’s already\n",
      "installed, it’s probably a good idea to update to the latest version. You can either install it as a\n",
      "package or via another installer, or download the source code and compile it yourself.\n",
      "\n",
      "This book was written using Git version 2. Since Git is quite excellent at preserving\n",
      "backwards compatibility, any recent version should work just fine. Though most of\n",
      "the commands we use should work even in ancient versions of Git, some of them\n",
      "might not or might act slightly differently.\n",
      "Installing on Linux\n",
      "If you want to install the basic Git tools on Linux via a binary installer, you can generally do so\n",
      "through the package management tool that comes with your distribution. If you’re on Fedora (or\n",
      "any closely-related RPM-based distribution, such as RHEL or CentOS), you can use dnf:\n",
      "$ sudo dnf install git-all\n",
      "If you’re on a Debian-based distribution, such as Ubuntu, try apt:\n",
      "$ sudo apt install git-all\n",
      "For more options, there are instructions for installing on several different Unix distributions on the\n",
      "Git website, at https://git-scm.com/download/linux.\n",
      "18Installing on macOS\n",
      "There are several ways to install Git on macOS. The easiest is probably to install the Xcode\n",
      "Command Line Tools. On Mavericks (10.9) or above you can do this simply by trying to run git from\n",
      "the Terminal the very first time.\n",
      "$ git --version\n",
      "If you don’t have it installed already, it will prompt you to install it.\n",
      "If you want a more up to date version, you can also install it via a binary installer. A macOS Git\n",
      "installer is maintained and available for download at the Git website, at https://git-scm.com/\n",
      "download/mac.\n",
      "Figure 7. Git macOS installer\n",
      "Installing on Windows\n",
      "There are also a few ways to install Git on Windows.  The most official build is available for\n",
      "download on the Git website. Just go to https://git-scm.com/download/win and the download will\n",
      "start automatically. Note that this is a project called Git for Windows, which is separate from Git\n",
      "itself; for more information on it, go to https://gitforwindows.org.\n",
      "To get an automated installation you can use the Git Chocolatey package . Note that the Chocolatey\n",
      "package is community maintained.\n",
      "19Installing from Source\n",
      "Some people may instead find it useful to install Git from source, because you’ll get the most recent\n",
      "version. The binary installers tend to be a bit behind, though as Git has matured in recent years,\n",
      "this has made less of a difference.\n",
      "If you do want to install Git from source, you need to have the following libraries that Git depends\n",
      "on: autotools, curl, zlib, openssl, expat, and libiconv. For example, if you’re on a system that has dnf\n",
      "(such as Fedora) or apt-get (such as a Debian-based system), you can use one of these commands to\n",
      "install the minimal dependencies for compiling and installing the Git binaries:\n",
      "$ sudo dnf install dh-autoreconf curl-devel expat-devel gettext-devel \\\n",
      "  openssl-devel perl-devel zlib-devel\n",
      "$ sudo apt-get install dh-autoreconf libcurl4-gnutls-dev libexpat1-dev \\\n",
      "  gettext libz-dev libssl-dev\n",
      "In order to be able to add the documentation in various formats (doc, html, info), these additional\n",
      "dependencies are required:\n",
      "$ sudo dnf install asciidoc xmlto docbook2X\n",
      "$ sudo apt-get install asciidoc xmlto\n"
     ]
    }
   ],
   "source": [
    "from langchain.text_splitter import TokenTextSplitter\n",
    "\n",
    "# Define the token splitter\n",
    "token_splitter = TokenTextSplitter.from_tiktoken_encoder(\n",
    "    encoding_name=\"cl100k_base\",\n",
    "    chunk_size=1000,\n",
    "    chunk_overlap=400\n",
    ")\n",
    "\n",
    "token_chunks = token_splitter.split_text(docs)\n",
    "\n",
    "print(f\"Token-based: {len(token_chunks)} chunks\")\n",
    "print(token_chunks[0])"
   ]
  },
  {
   "cell_type": "markdown",
   "id": "5ab496d3",
   "metadata": {},
   "source": [
    "- In **`.from_tiktoken_encorder()`**\n",
    "  - It takes **`encoding_name`** eg **\"cl100k_base\"** or **`model_name`** eg **\"gpt-4\"**\n",
    "- **`chunk_size`** define the size of token.\n",
    "- **`chunk_overlap`** defines the how many characters or tokens from the end of one chunk repeat at beginning of the next chunk."
   ]
  },
  {
   "cell_type": "markdown",
   "id": "ae7b9626",
   "metadata": {},
   "source": [
    "- We can also use **`TokenTextSplitter`** splitter which is directly work with **`tiktoken`**. Also ensure each chunk should smaller than `chunk_size`."
   ]
  },
  {
   "cell_type": "code",
   "execution_count": 78,
   "id": "78424ddc",
   "metadata": {},
   "outputs": [
    {
     "name": "stdout",
     "output_type": "stream",
     "text": [
      "Character-based: 20954 chunks\n",
      "String token: Preface by Ben Straub\n",
      "The first edition\n",
      "Document tokens: page_content='Preface by Ben Straub\n",
      "The first edition'\n"
     ]
    }
   ],
   "source": [
    "from langchain_text_splitters import TokenTextSplitter\n",
    "\n",
    "splitter = TokenTextSplitter(\n",
    "    model_name=\"gpt-4\",\n",
    "    chunk_size=10,\n",
    "    chunk_overlap=0\n",
    ")\n",
    "\n",
    "token_chunks = splitter.split_text(docs)\n",
    "chunk_docs = splitter.create_documents(token_chunks)\n",
    "print(f\"Character-based: {len(token_chunks)} chunks\")\n",
    "print(f\"String token: {token_chunks[0]}\")  # Show first 300 chars of the first\n",
    "print(f\"Document tokens: {chunk_docs[0]}\")"
   ]
  },
  {
   "cell_type": "markdown",
   "id": "80a6d07c",
   "metadata": {},
   "source": [
    "### 2. Based by Characters"
   ]
  },
  {
   "cell_type": "code",
   "execution_count": 83,
   "id": "ff61ee1e",
   "metadata": {},
   "outputs": [
    {
     "name": "stdout",
     "output_type": "stream",
     "text": [
      "Total length of the docs is:-  844051\n",
      "Len chunks: 1063\n",
      "Char chunk: Preface by Ben Straub\n",
      "The first edition of this book is what got me hooked on Git. This was my introduction to a style of\n",
      "making software that felt more natural than anything I had seen before. I had been a developer for\n",
      "several years by then, but this was the right turn that sent me down a much more interesting path\n",
      "than the one I was on.\n",
      "Now, years later, I’m a contributor to a major Git implementation, I’ve worked for the largest Git\n",
      "hosting company, and I’ve traveled the world teaching people about Git. When Scott asked if I’d be\n",
      "interested in working on the second edition, I didn’t even have to think.\n",
      "It’s been a great pleasure and privilege to work on this book. I hope it helps you as much as it did\n",
      "me.\n",
      "3Dedications\n",
      "To my wife, Becky, without whom this adventure never would have begun. — Ben\n",
      "This edition is dedicated to my girls. To my wife Jessica who has supported me for all of these years\n"
     ]
    }
   ],
   "source": [
    "from langchain.text_splitter import CharacterTextSplitter\n",
    "\n",
    "print(\"Total length of the docs is:- \", len(docs))\n",
    "# Define the character splitter\n",
    "char_splitter = CharacterTextSplitter(\n",
    "    separator=\"\\n\",\n",
    "    chunk_size=1000,      # each chunk has 1000 characters\n",
    "    chunk_overlap=200,     # each chunk overlaps 100 characters with the previous\n",
    "    length_function=len,\n",
    "    is_separator_regex=False\n",
    ")\n",
    "\n",
    "char_chunks = char_splitter.split_text(docs)\n",
    "print(f\"Len chunks: {len(char_chunks)}\")\n",
    "print(f\"Char chunk: {char_chunks[0]}\")"
   ]
  },
  {
   "cell_type": "markdown",
   "id": "ccb784fe",
   "metadata": {},
   "source": [
    "- It you want to add metadata associated with each chunk use **`.create_documents`**"
   ]
  },
  {
   "cell_type": "code",
   "execution_count": null,
   "id": "120645cf",
   "metadata": {},
   "outputs": [
    {
     "name": "stdout",
     "output_type": "stream",
     "text": [
      "[Document(metadata={'producer': 'Asciidoctor PDF 2.3.17, based on Prawn 2.4.0', 'creator': 'Scott Chacon, Ben Straub', 'creationdate': '2025-04-10T14:40:20+00:00', 'title': 'Pro Git', 'author': 'Scott Chacon, Ben Straub', 'moddate': '2025-04-10T14:40:04+00:00', 'source': '../sample_files/progit.pdf', 'total_pages': 501, 'page': 8, 'page_label': '3'}, page_content='Preface by Ben Straub\\nThe first edition of this book is what got me hooked on Git. This was my introduction to a style of\\nmaking software that felt more natural than anything I had seen before. I had been a developer for\\nseveral years by then, but this was the right turn that sent me down a much more interesting path\\nthan the one I was on.\\nNow, years later, I’m a contributor to a major Git implementation, I’ve worked for the largest Git\\nhosting company, and I’ve traveled the world teaching people about Git. When Scott asked if I’d be\\ninterested in working on the second edition, I didn’t even have to think.\\nIt’s been a great pleasure and privilege to work on this book. I hope it helps you as much as it did\\nme.\\n3Dedications\\nTo my wife, Becky, without whom this adventure never would have begun. — Ben\\nThis edition is dedicated to my girls. To my wife Jessica who has supported me for all of these years')]\n"
     ]
    }
   ],
   "source": [
    "doc_chunk = char_splitter.create_documents(\n",
    "    [char_chunks[0]], metadatas=[metadatas[0]])\n",
    "\n",
    "print(doc_chunk)"
   ]
  },
  {
   "cell_type": "markdown",
   "id": "fc941009",
   "metadata": {
    "vscode": {
     "languageId": "plaintext"
    }
   },
   "source": [
    "## Text-structure Based\n"
   ]
  },
  {
   "cell_type": "code",
   "execution_count": 105,
   "id": "ce772cfd",
   "metadata": {},
   "outputs": [],
   "source": [
    "from langchain_text_splitters import RecursiveCharacterTextSplitter\n",
    "\n",
    "# Define text splitter\n",
    "splitter = RecursiveCharacterTextSplitter(\n",
    "    chunk_size=500,\n",
    "    chunk_overlap=50,\n",
    "    length_function=len,\n",
    "    is_separator_regex=False\n",
    ")\n",
    "\n",
    "texts = splitter.create_documents([docs])"
   ]
  },
  {
   "cell_type": "code",
   "execution_count": 111,
   "id": "067bd90a",
   "metadata": {},
   "outputs": [],
   "source": [
    "from langchain_core.vectorstores import InMemoryVectorStore\n",
    "from langchain_openai import OpenAIEmbeddings\n",
    "\n",
    "vector_store = InMemoryVectorStore.from_documents(\n",
    "    texts, OpenAIEmbeddings(model=\"text-embedding-3-small\"))"
   ]
  },
  {
   "cell_type": "code",
   "execution_count": 117,
   "id": "20377f2a",
   "metadata": {},
   "outputs": [
    {
     "name": "stdout",
     "output_type": "stream",
     "text": [
      "[Document(id='e671f66b-f921-42f3-b545-f04ef662271d', metadata={}, page_content=\"all and commit. Staging the files computes a checksum for each one (the SHA-1 hash we mentioned\\nin What is Git?), stores that version of the file in the Git repository (Git refers to them as blobs), and\\nadds that checksum to the staging area:\\n$ git add README test.rb LICENSE\\n$ git commit -m 'Initial commit'\\nWhen you create the commit by running git commit, Git checksums each subdirectory (in this case,\"), Document(id='3360d11c-6d6d-4d3d-b63c-8d04e43b7de2', metadata={}, page_content=')\\ncommit = repo.lookup(commit_id) ⑧\\n① Create a new blob, which contains the contents of a new file.\\n② Populate the index with the head commit’s tree, and add the new file at the path newfile.txt.\\n③ This creates a new tree in the ODB, and uses it for the new commit.\\n④ We use the same signature for both the author and committer fields.\\n⑤ The commit message.\\n⑥ When creating a commit, you have to specify the new commit’s parents. This uses the tip of\\nHEAD for the single parent.'), Document(id='a8b8e344-57de-4ef0-af70-9a1a7b989788', metadata={}, page_content='commit snapshot.\\n• Committed means that the data is safely stored in your local database.\\nThis leads us to the three main sections of a Git project: the working tree, the staging area, and the\\nGit directory.\\nFigure 6. Working tree, staging area, and Git directory\\nThe working tree is a single checkout of one version of the project. These files are pulled out of the\\ncompressed database in the Git directory and placed on disk for you to use or modify.'), Document(id='bbb98046-8ee7-416c-a64c-25df113f1264', metadata={}, page_content='index.read_tree(repo.head.target.tree)\\nindex.add(:path => \\'newfile.txt\\', :oid => blob_id) ②\\nsig = {\\n\\xa0   :email => \"bob@example.com\",\\n\\xa0   :name => \"Bob User\",\\n\\xa0   :time => Time.now,\\n}\\ncommit_id = Rugged::Commit.create(repo,\\n\\xa0   :tree => index.write_tree(repo), ③\\n\\xa0   :author => sig,\\n\\xa0   :committer => sig, ④\\n\\xa0   :message => \"Add newfile.txt\", ⑤\\n\\xa0   :parents => repo.empty? ? [] : [ repo.head.target ].compact, ⑥\\n\\xa0   :update_ref => \\'HEAD\\', ⑦\\n)\\ncommit = repo.lookup(commit_id) ⑧')]\n"
     ]
    }
   ],
   "source": [
    "docs = vector_store.similarity_search(\"commit\")\n",
    "\n",
    "print(docs)"
   ]
  },
  {
   "cell_type": "markdown",
   "id": "27bccfbd",
   "metadata": {
    "vscode": {
     "languageId": "plaintext"
    }
   },
   "source": [
    "## Semantic meaning Based"
   ]
  }
 ],
 "metadata": {
  "kernelspec": {
   "display_name": "myenv",
   "language": "python",
   "name": "python3"
  },
  "language_info": {
   "codemirror_mode": {
    "name": "ipython",
    "version": 3
   },
   "file_extension": ".py",
   "mimetype": "text/x-python",
   "name": "python",
   "nbconvert_exporter": "python",
   "pygments_lexer": "ipython3",
   "version": "3.13.0"
  }
 },
 "nbformat": 4,
 "nbformat_minor": 5
}
