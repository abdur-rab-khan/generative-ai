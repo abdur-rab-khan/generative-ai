{
 "cells": [
  {
   "cell_type": "markdown",
   "id": "00518ba7",
   "metadata": {},
   "source": [
    "# [Retrievers with SQL](https://python.langchain.com/docs/tutorials/sql_qa/)"
   ]
  }
 ],
 "metadata": {
  "language_info": {
   "name": "python"
  }
 },
 "nbformat": 4,
 "nbformat_minor": 5
}
