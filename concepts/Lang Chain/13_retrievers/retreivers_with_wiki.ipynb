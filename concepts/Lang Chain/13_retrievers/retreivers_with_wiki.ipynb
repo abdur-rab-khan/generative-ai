{
 "cells": [
  {
   "cell_type": "markdown",
   "id": "e4a8ae33",
   "metadata": {},
   "source": [
    "# [Retrievers with Wikipedia Search](https://python.langchain.com/docs/integrations/retrievers/wikipedia/)"
   ]
  }
 ],
 "metadata": {
  "language_info": {
   "name": "python"
  }
 },
 "nbformat": 4,
 "nbformat_minor": 5
}
